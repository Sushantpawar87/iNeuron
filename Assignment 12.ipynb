{
 "cells": [
  {
   "cell_type": "markdown",
   "id": "73331f40",
   "metadata": {},
   "source": [
    "1. The PdfFileReader() and PdfFileWriter() File objects should be opened in the following modes:\n",
    "\n",
    "PdfFileReader() should be opened in 'rb' mode, which stands for read binary mode.\n",
    "PdfFileWriter() should be opened in 'wb' mode, which stands for write binary mode.\n"
   ]
  },
  {
   "cell_type": "markdown",
   "id": "5fc57d71",
   "metadata": {},
   "source": [
    "2. To get a Page object for page 5 from a PdfFileReader object, you can use the following code:"
   ]
  },
  {
   "cell_type": "code",
   "execution_count": 5,
   "id": "37a8fb62",
   "metadata": {},
   "outputs": [
    {
     "name": "stdout",
     "output_type": "stream",
     "text": [
      "Collecting PyPDF2\n",
      "  Downloading pypdf2-3.0.1-py3-none-any.whl (232 kB)\n",
      "Requirement already satisfied: typing_extensions>=3.10.0.0 in c:\\users\\lenovo\\anaconda3\\lib\\site-packages (from PyPDF2) (4.1.1)\n",
      "Installing collected packages: PyPDF2\n",
      "Successfully installed PyPDF2-3.0.1\n",
      "Note: you may need to restart the kernel to use updated packages.\n"
     ]
    }
   ],
   "source": [
    "pip install PyPDF2"
   ]
  },
  {
   "cell_type": "code",
   "execution_count": 22,
   "id": "64591616",
   "metadata": {},
   "outputs": [
    {
     "name": "stdout",
     "output_type": "stream",
     "text": [
      "Collecting pdf2image\n",
      "  Downloading pdf2image-1.16.3-py3-none-any.whl (11 kB)\n",
      "Requirement already satisfied: pillow in c:\\users\\lenovo\\anaconda3\\lib\\site-packages (from pdf2image) (9.0.1)\n",
      "Installing collected packages: pdf2image\n",
      "Successfully installed pdf2image-1.16.3\n",
      "Note: you may need to restart the kernel to use updated packages.\n"
     ]
    }
   ],
   "source": [
    "pip install pdf2image"
   ]
  },
  {
   "cell_type": "code",
   "execution_count": 24,
   "id": "f4b58481",
   "metadata": {
    "scrolled": true
   },
   "outputs": [
    {
     "ename": "PDFInfoNotInstalledError",
     "evalue": "Unable to get page count. Is poppler installed and in PATH?",
     "output_type": "error",
     "traceback": [
      "\u001b[1;31m---------------------------------------------------------------------------\u001b[0m",
      "\u001b[1;31mFileNotFoundError\u001b[0m                         Traceback (most recent call last)",
      "File \u001b[1;32m~\\anaconda3\\lib\\site-packages\\pdf2image\\pdf2image.py:568\u001b[0m, in \u001b[0;36mpdfinfo_from_path\u001b[1;34m(pdf_path, userpw, ownerpw, poppler_path, rawdates, timeout)\u001b[0m\n\u001b[0;32m    567\u001b[0m     env[\u001b[38;5;124m\"\u001b[39m\u001b[38;5;124mLD_LIBRARY_PATH\u001b[39m\u001b[38;5;124m\"\u001b[39m] \u001b[38;5;241m=\u001b[39m poppler_path \u001b[38;5;241m+\u001b[39m \u001b[38;5;124m\"\u001b[39m\u001b[38;5;124m:\u001b[39m\u001b[38;5;124m\"\u001b[39m \u001b[38;5;241m+\u001b[39m env\u001b[38;5;241m.\u001b[39mget(\u001b[38;5;124m\"\u001b[39m\u001b[38;5;124mLD_LIBRARY_PATH\u001b[39m\u001b[38;5;124m\"\u001b[39m, \u001b[38;5;124m\"\u001b[39m\u001b[38;5;124m\"\u001b[39m)\n\u001b[1;32m--> 568\u001b[0m proc \u001b[38;5;241m=\u001b[39m \u001b[43mPopen\u001b[49m\u001b[43m(\u001b[49m\u001b[43mcommand\u001b[49m\u001b[43m,\u001b[49m\u001b[43m \u001b[49m\u001b[43menv\u001b[49m\u001b[38;5;241;43m=\u001b[39;49m\u001b[43menv\u001b[49m\u001b[43m,\u001b[49m\u001b[43m \u001b[49m\u001b[43mstdout\u001b[49m\u001b[38;5;241;43m=\u001b[39;49m\u001b[43mPIPE\u001b[49m\u001b[43m,\u001b[49m\u001b[43m \u001b[49m\u001b[43mstderr\u001b[49m\u001b[38;5;241;43m=\u001b[39;49m\u001b[43mPIPE\u001b[49m\u001b[43m)\u001b[49m\n\u001b[0;32m    570\u001b[0m \u001b[38;5;28;01mtry\u001b[39;00m:\n",
      "File \u001b[1;32m~\\anaconda3\\lib\\subprocess.py:951\u001b[0m, in \u001b[0;36mPopen.__init__\u001b[1;34m(self, args, bufsize, executable, stdin, stdout, stderr, preexec_fn, close_fds, shell, cwd, env, universal_newlines, startupinfo, creationflags, restore_signals, start_new_session, pass_fds, user, group, extra_groups, encoding, errors, text, umask)\u001b[0m\n\u001b[0;32m    948\u001b[0m             \u001b[38;5;28mself\u001b[39m\u001b[38;5;241m.\u001b[39mstderr \u001b[38;5;241m=\u001b[39m io\u001b[38;5;241m.\u001b[39mTextIOWrapper(\u001b[38;5;28mself\u001b[39m\u001b[38;5;241m.\u001b[39mstderr,\n\u001b[0;32m    949\u001b[0m                     encoding\u001b[38;5;241m=\u001b[39mencoding, errors\u001b[38;5;241m=\u001b[39merrors)\n\u001b[1;32m--> 951\u001b[0m     \u001b[38;5;28;43mself\u001b[39;49m\u001b[38;5;241;43m.\u001b[39;49m\u001b[43m_execute_child\u001b[49m\u001b[43m(\u001b[49m\u001b[43margs\u001b[49m\u001b[43m,\u001b[49m\u001b[43m \u001b[49m\u001b[43mexecutable\u001b[49m\u001b[43m,\u001b[49m\u001b[43m \u001b[49m\u001b[43mpreexec_fn\u001b[49m\u001b[43m,\u001b[49m\u001b[43m \u001b[49m\u001b[43mclose_fds\u001b[49m\u001b[43m,\u001b[49m\n\u001b[0;32m    952\u001b[0m \u001b[43m                        \u001b[49m\u001b[43mpass_fds\u001b[49m\u001b[43m,\u001b[49m\u001b[43m \u001b[49m\u001b[43mcwd\u001b[49m\u001b[43m,\u001b[49m\u001b[43m \u001b[49m\u001b[43menv\u001b[49m\u001b[43m,\u001b[49m\n\u001b[0;32m    953\u001b[0m \u001b[43m                        \u001b[49m\u001b[43mstartupinfo\u001b[49m\u001b[43m,\u001b[49m\u001b[43m \u001b[49m\u001b[43mcreationflags\u001b[49m\u001b[43m,\u001b[49m\u001b[43m \u001b[49m\u001b[43mshell\u001b[49m\u001b[43m,\u001b[49m\n\u001b[0;32m    954\u001b[0m \u001b[43m                        \u001b[49m\u001b[43mp2cread\u001b[49m\u001b[43m,\u001b[49m\u001b[43m \u001b[49m\u001b[43mp2cwrite\u001b[49m\u001b[43m,\u001b[49m\n\u001b[0;32m    955\u001b[0m \u001b[43m                        \u001b[49m\u001b[43mc2pread\u001b[49m\u001b[43m,\u001b[49m\u001b[43m \u001b[49m\u001b[43mc2pwrite\u001b[49m\u001b[43m,\u001b[49m\n\u001b[0;32m    956\u001b[0m \u001b[43m                        \u001b[49m\u001b[43merrread\u001b[49m\u001b[43m,\u001b[49m\u001b[43m \u001b[49m\u001b[43merrwrite\u001b[49m\u001b[43m,\u001b[49m\n\u001b[0;32m    957\u001b[0m \u001b[43m                        \u001b[49m\u001b[43mrestore_signals\u001b[49m\u001b[43m,\u001b[49m\n\u001b[0;32m    958\u001b[0m \u001b[43m                        \u001b[49m\u001b[43mgid\u001b[49m\u001b[43m,\u001b[49m\u001b[43m \u001b[49m\u001b[43mgids\u001b[49m\u001b[43m,\u001b[49m\u001b[43m \u001b[49m\u001b[43muid\u001b[49m\u001b[43m,\u001b[49m\u001b[43m \u001b[49m\u001b[43mumask\u001b[49m\u001b[43m,\u001b[49m\n\u001b[0;32m    959\u001b[0m \u001b[43m                        \u001b[49m\u001b[43mstart_new_session\u001b[49m\u001b[43m)\u001b[49m\n\u001b[0;32m    960\u001b[0m \u001b[38;5;28;01mexcept\u001b[39;00m:\n\u001b[0;32m    961\u001b[0m     \u001b[38;5;66;03m# Cleanup if the child failed starting.\u001b[39;00m\n",
      "File \u001b[1;32m~\\anaconda3\\lib\\subprocess.py:1420\u001b[0m, in \u001b[0;36mPopen._execute_child\u001b[1;34m(self, args, executable, preexec_fn, close_fds, pass_fds, cwd, env, startupinfo, creationflags, shell, p2cread, p2cwrite, c2pread, c2pwrite, errread, errwrite, unused_restore_signals, unused_gid, unused_gids, unused_uid, unused_umask, unused_start_new_session)\u001b[0m\n\u001b[0;32m   1419\u001b[0m \u001b[38;5;28;01mtry\u001b[39;00m:\n\u001b[1;32m-> 1420\u001b[0m     hp, ht, pid, tid \u001b[38;5;241m=\u001b[39m \u001b[43m_winapi\u001b[49m\u001b[38;5;241;43m.\u001b[39;49m\u001b[43mCreateProcess\u001b[49m\u001b[43m(\u001b[49m\u001b[43mexecutable\u001b[49m\u001b[43m,\u001b[49m\u001b[43m \u001b[49m\u001b[43margs\u001b[49m\u001b[43m,\u001b[49m\n\u001b[0;32m   1421\u001b[0m \u001b[43m                             \u001b[49m\u001b[38;5;66;43;03m# no special security\u001b[39;49;00m\n\u001b[0;32m   1422\u001b[0m \u001b[43m                             \u001b[49m\u001b[38;5;28;43;01mNone\u001b[39;49;00m\u001b[43m,\u001b[49m\u001b[43m \u001b[49m\u001b[38;5;28;43;01mNone\u001b[39;49;00m\u001b[43m,\u001b[49m\n\u001b[0;32m   1423\u001b[0m \u001b[43m                             \u001b[49m\u001b[38;5;28;43mint\u001b[39;49m\u001b[43m(\u001b[49m\u001b[38;5;129;43;01mnot\u001b[39;49;00m\u001b[43m \u001b[49m\u001b[43mclose_fds\u001b[49m\u001b[43m)\u001b[49m\u001b[43m,\u001b[49m\n\u001b[0;32m   1424\u001b[0m \u001b[43m                             \u001b[49m\u001b[43mcreationflags\u001b[49m\u001b[43m,\u001b[49m\n\u001b[0;32m   1425\u001b[0m \u001b[43m                             \u001b[49m\u001b[43menv\u001b[49m\u001b[43m,\u001b[49m\n\u001b[0;32m   1426\u001b[0m \u001b[43m                             \u001b[49m\u001b[43mcwd\u001b[49m\u001b[43m,\u001b[49m\n\u001b[0;32m   1427\u001b[0m \u001b[43m                             \u001b[49m\u001b[43mstartupinfo\u001b[49m\u001b[43m)\u001b[49m\n\u001b[0;32m   1428\u001b[0m \u001b[38;5;28;01mfinally\u001b[39;00m:\n\u001b[0;32m   1429\u001b[0m     \u001b[38;5;66;03m# Child is launched. Close the parent's copy of those pipe\u001b[39;00m\n\u001b[0;32m   1430\u001b[0m     \u001b[38;5;66;03m# handles that only the child should have open.  You need\u001b[39;00m\n\u001b[1;32m   (...)\u001b[0m\n\u001b[0;32m   1433\u001b[0m     \u001b[38;5;66;03m# pipe will not close when the child process exits and the\u001b[39;00m\n\u001b[0;32m   1434\u001b[0m     \u001b[38;5;66;03m# ReadFile will hang.\u001b[39;00m\n",
      "\u001b[1;31mFileNotFoundError\u001b[0m: [WinError 2] The system cannot find the file specified",
      "\nDuring handling of the above exception, another exception occurred:\n",
      "\u001b[1;31mPDFInfoNotInstalledError\u001b[0m                  Traceback (most recent call last)",
      "Input \u001b[1;32mIn [24]\u001b[0m, in \u001b[0;36m<cell line: 2>\u001b[1;34m()\u001b[0m\n\u001b[0;32m      1\u001b[0m \u001b[38;5;28;01mfrom\u001b[39;00m \u001b[38;5;21;01mpdf2image\u001b[39;00m \u001b[38;5;28;01mimport\u001b[39;00m convert_from_path\n\u001b[1;32m----> 2\u001b[0m images \u001b[38;5;241m=\u001b[39m \u001b[43mconvert_from_path\u001b[49m\u001b[43m(\u001b[49m\u001b[38;5;124;43mr\u001b[39;49m\u001b[38;5;124;43m'\u001b[39;49m\u001b[38;5;124;43mD:\u001b[39;49m\u001b[38;5;124;43m\\\u001b[39;49m\u001b[38;5;124;43mTest 2\u001b[39;49m\u001b[38;5;124;43m\\\u001b[39;49m\u001b[38;5;124;43m20230218 - stats day 1.pdf\u001b[39;49m\u001b[38;5;124;43m'\u001b[39;49m\u001b[43m,\u001b[49m\u001b[43m \u001b[49m\u001b[43mfirst_page\u001b[49m\u001b[38;5;241;43m=\u001b[39;49m\u001b[38;5;241;43m3\u001b[39;49m\u001b[43m,\u001b[49m\u001b[43m \u001b[49m\u001b[43mlast_page\u001b[49m\u001b[38;5;241;43m=\u001b[39;49m\u001b[38;5;241;43m4\u001b[39;49m\u001b[43m)\u001b[49m\n\u001b[0;32m      3\u001b[0m images[\u001b[38;5;241m0\u001b[39m]\u001b[38;5;241m.\u001b[39mshow()\n",
      "File \u001b[1;32m~\\anaconda3\\lib\\site-packages\\pdf2image\\pdf2image.py:127\u001b[0m, in \u001b[0;36mconvert_from_path\u001b[1;34m(pdf_path, dpi, output_folder, first_page, last_page, fmt, jpegopt, thread_count, userpw, ownerpw, use_cropbox, strict, transparent, single_file, output_file, poppler_path, grayscale, size, paths_only, use_pdftocairo, timeout, hide_annotations)\u001b[0m\n\u001b[0;32m    124\u001b[0m \u001b[38;5;28;01mif\u001b[39;00m \u001b[38;5;28misinstance\u001b[39m(poppler_path, PurePath):\n\u001b[0;32m    125\u001b[0m     poppler_path \u001b[38;5;241m=\u001b[39m poppler_path\u001b[38;5;241m.\u001b[39mas_posix()\n\u001b[1;32m--> 127\u001b[0m page_count \u001b[38;5;241m=\u001b[39m \u001b[43mpdfinfo_from_path\u001b[49m\u001b[43m(\u001b[49m\n\u001b[0;32m    128\u001b[0m \u001b[43m    \u001b[49m\u001b[43mpdf_path\u001b[49m\u001b[43m,\u001b[49m\u001b[43m \u001b[49m\u001b[43muserpw\u001b[49m\u001b[43m,\u001b[49m\u001b[43m \u001b[49m\u001b[43mownerpw\u001b[49m\u001b[43m,\u001b[49m\u001b[43m \u001b[49m\u001b[43mpoppler_path\u001b[49m\u001b[38;5;241;43m=\u001b[39;49m\u001b[43mpoppler_path\u001b[49m\n\u001b[0;32m    129\u001b[0m \u001b[43m\u001b[49m\u001b[43m)\u001b[49m[\u001b[38;5;124m\"\u001b[39m\u001b[38;5;124mPages\u001b[39m\u001b[38;5;124m\"\u001b[39m]\n\u001b[0;32m    131\u001b[0m \u001b[38;5;66;03m# We start by getting the output format, the buffer processing function and if we need pdftocairo\u001b[39;00m\n\u001b[0;32m    132\u001b[0m parsed_fmt, final_extension, parse_buffer_func, use_pdfcairo_format \u001b[38;5;241m=\u001b[39m _parse_format(\n\u001b[0;32m    133\u001b[0m     fmt, grayscale\n\u001b[0;32m    134\u001b[0m )\n",
      "File \u001b[1;32m~\\anaconda3\\lib\\site-packages\\pdf2image\\pdf2image.py:594\u001b[0m, in \u001b[0;36mpdfinfo_from_path\u001b[1;34m(pdf_path, userpw, ownerpw, poppler_path, rawdates, timeout)\u001b[0m\n\u001b[0;32m    591\u001b[0m     \u001b[38;5;28;01mreturn\u001b[39;00m d\n\u001b[0;32m    593\u001b[0m \u001b[38;5;28;01mexcept\u001b[39;00m \u001b[38;5;167;01mOSError\u001b[39;00m:\n\u001b[1;32m--> 594\u001b[0m     \u001b[38;5;28;01mraise\u001b[39;00m PDFInfoNotInstalledError(\n\u001b[0;32m    595\u001b[0m         \u001b[38;5;124m\"\u001b[39m\u001b[38;5;124mUnable to get page count. Is poppler installed and in PATH?\u001b[39m\u001b[38;5;124m\"\u001b[39m\n\u001b[0;32m    596\u001b[0m     )\n\u001b[0;32m    597\u001b[0m \u001b[38;5;28;01mexcept\u001b[39;00m \u001b[38;5;167;01mValueError\u001b[39;00m:\n\u001b[0;32m    598\u001b[0m     \u001b[38;5;28;01mraise\u001b[39;00m PDFPageCountError(\n\u001b[0;32m    599\u001b[0m         \u001b[38;5;124mf\u001b[39m\u001b[38;5;124m\"\u001b[39m\u001b[38;5;124mUnable to get page count.\u001b[39m\u001b[38;5;130;01m\\n\u001b[39;00m\u001b[38;5;132;01m{\u001b[39;00merr\u001b[38;5;241m.\u001b[39mdecode(\u001b[38;5;124m'\u001b[39m\u001b[38;5;124mutf8\u001b[39m\u001b[38;5;124m'\u001b[39m, \u001b[38;5;124m'\u001b[39m\u001b[38;5;124mignore\u001b[39m\u001b[38;5;124m'\u001b[39m)\u001b[38;5;132;01m}\u001b[39;00m\u001b[38;5;124m\"\u001b[39m\n\u001b[0;32m    600\u001b[0m     )\n",
      "\u001b[1;31mPDFInfoNotInstalledError\u001b[0m: Unable to get page count. Is poppler installed and in PATH?"
     ]
    }
   ],
   "source": [
    "from pdf2image import convert_from_path\n",
    "\n",
    "images = convert_from_path(r'D:\\Test 2\\20230218 - stats day 1.pdf', first_page=3, last_page=4)\n",
    "images[0].show()"
   ]
  },
  {
   "cell_type": "code",
   "execution_count": 19,
   "id": "2ef8f881",
   "metadata": {},
   "outputs": [],
   "source": [
    "from PyPDF2 import PdfFileReader,PdfReader\n",
    "from PIL import Image"
   ]
  },
  {
   "cell_type": "code",
   "execution_count": 10,
   "id": "e8bf8715",
   "metadata": {},
   "outputs": [],
   "source": [
    "pdf_file = open(r'D:\\Test 2\\20230218 - stats day 1.pdf','rb')"
   ]
  },
  {
   "cell_type": "code",
   "execution_count": 13,
   "id": "571d3571",
   "metadata": {},
   "outputs": [],
   "source": [
    "pdf_reader = PdfReader(pdf_file)"
   ]
  },
  {
   "cell_type": "code",
   "execution_count": 27,
   "id": "47f9d156",
   "metadata": {},
   "outputs": [],
   "source": [
    "#To get a Page object for page 2 from a PdfFileReader object, you can use the following code:\n",
    "page = pdf_reader.pages[3]\n"
   ]
  },
  {
   "cell_type": "code",
   "execution_count": 31,
   "id": "09d21135",
   "metadata": {},
   "outputs": [
    {
     "data": {
      "text/plain": [
       "11"
      ]
     },
     "execution_count": 31,
     "metadata": {},
     "output_type": "execute_result"
    }
   ],
   "source": [
    "# To get number of pages\n",
    "page_number = len(pdf_reader.pages)\n",
    "page_number"
   ]
  },
  {
   "cell_type": "code",
   "execution_count": 32,
   "id": "23ad07a6",
   "metadata": {},
   "outputs": [
    {
     "ename": "PdfReadError",
     "evalue": "Not encrypted file",
     "output_type": "error",
     "traceback": [
      "\u001b[1;31m---------------------------------------------------------------------------\u001b[0m",
      "\u001b[1;31mPdfReadError\u001b[0m                              Traceback (most recent call last)",
      "Input \u001b[1;32mIn [32]\u001b[0m, in \u001b[0;36m<cell line: 3>\u001b[1;34m()\u001b[0m\n\u001b[0;32m      1\u001b[0m \u001b[38;5;66;03m#If a PdfFileReader object's PDF is encrypted with the password \"swordfish\", you need to decrypt it using the decrypt() method before you can obtain Page objects from it. \u001b[39;00m\n\u001b[1;32m----> 3\u001b[0m \u001b[43mpdf_reader\u001b[49m\u001b[38;5;241;43m.\u001b[39;49m\u001b[43mdecrypt\u001b[49m\u001b[43m(\u001b[49m\u001b[38;5;124;43m\"\u001b[39;49m\u001b[38;5;124;43mswardfish\u001b[39;49m\u001b[38;5;124;43m\"\u001b[39;49m\u001b[43m)\u001b[49m\n",
      "File \u001b[1;32m~\\anaconda3\\lib\\site-packages\\PyPDF2\\_reader.py:1900\u001b[0m, in \u001b[0;36mPdfReader.decrypt\u001b[1;34m(self, password)\u001b[0m\n\u001b[0;32m   1885\u001b[0m \u001b[38;5;124;03m\"\"\"\u001b[39;00m\n\u001b[0;32m   1886\u001b[0m \u001b[38;5;124;03mWhen using an encrypted / secured PDF file with the PDF Standard\u001b[39;00m\n\u001b[0;32m   1887\u001b[0m \u001b[38;5;124;03mencryption handler, this function will allow the file to be decrypted.\u001b[39;00m\n\u001b[1;32m   (...)\u001b[0m\n\u001b[0;32m   1897\u001b[0m \u001b[38;5;124;03m:return: `PasswordType`.\u001b[39;00m\n\u001b[0;32m   1898\u001b[0m \u001b[38;5;124;03m\"\"\"\u001b[39;00m\n\u001b[0;32m   1899\u001b[0m \u001b[38;5;28;01mif\u001b[39;00m \u001b[38;5;129;01mnot\u001b[39;00m \u001b[38;5;28mself\u001b[39m\u001b[38;5;241m.\u001b[39m_encryption:\n\u001b[1;32m-> 1900\u001b[0m     \u001b[38;5;28;01mraise\u001b[39;00m PdfReadError(\u001b[38;5;124m\"\u001b[39m\u001b[38;5;124mNot encrypted file\u001b[39m\u001b[38;5;124m\"\u001b[39m)\n\u001b[0;32m   1901\u001b[0m \u001b[38;5;66;03m# TODO: raise Exception for wrong password\u001b[39;00m\n\u001b[0;32m   1902\u001b[0m \u001b[38;5;28;01mreturn\u001b[39;00m \u001b[38;5;28mself\u001b[39m\u001b[38;5;241m.\u001b[39m_encryption\u001b[38;5;241m.\u001b[39mverify(password)\n",
      "\u001b[1;31mPdfReadError\u001b[0m: Not encrypted file"
     ]
    }
   ],
   "source": [
    "#If a PdfFileReader object's PDF is encrypted with the password \"swordfish\", you need to decrypt it using the decrypt() method before you can obtain Page objects from it. \n",
    "\n",
    "pdf_reader.decrypt(\"swardfish\")"
   ]
  },
  {
   "cell_type": "code",
   "execution_count": 34,
   "id": "0eaddf45",
   "metadata": {},
   "outputs": [],
   "source": [
    "# to rotate the page\n",
    "\n",
    "page1 = page.rotate(90)"
   ]
  },
  {
   "cell_type": "markdown",
   "id": "3c2ac5d5",
   "metadata": {},
   "source": [
    "6.A Run object represents a contiguous run of text with the same character formatting, such as font, size, color, etc. A Paragraph object represents a single paragraph of text, which may contain one or more Run objects."
   ]
  },
  {
   "cell_type": "code",
   "execution_count": 35,
   "id": "ff2811f8",
   "metadata": {},
   "outputs": [],
   "source": [
    "#7.To obtain a list of Paragraph objects for a Document object stored in a variable named doc, you can use the following code:"
   ]
  },
  {
   "cell_type": "code",
   "execution_count": 41,
   "id": "299b3456",
   "metadata": {},
   "outputs": [
    {
     "name": "stdout",
     "output_type": "stream",
     "text": [
      "Collecting python-docx\n",
      "  Downloading python-docx-0.8.11.tar.gz (5.6 MB)\n",
      "Requirement already satisfied: lxml>=2.3.2 in c:\\users\\lenovo\\anaconda3\\lib\\site-packages (from python-docx) (4.8.0)\n",
      "Building wheels for collected packages: python-docx\n",
      "  Building wheel for python-docx (setup.py): started\n",
      "  Building wheel for python-docx (setup.py): finished with status 'done'\n",
      "  Created wheel for python-docx: filename=python_docx-0.8.11-py3-none-any.whl size=184507 sha256=976a4adc760c801b21e813e0b56400076de554525a6db2da6da6fdb7e70795f2\n",
      "  Stored in directory: c:\\users\\lenovo\\appdata\\local\\pip\\cache\\wheels\\83\\8b\\7c\\09ae60c42c7ba4ed2dddaf2b8b9186cb105255856d6ed3dba5\n",
      "Successfully built python-docx\n",
      "Installing collected packages: python-docx\n",
      "Successfully installed python-docx-0.8.11\n",
      "Note: you may need to restart the kernel to use updated packages.\n"
     ]
    }
   ],
   "source": [
    "pip install python-docx"
   ]
  },
  {
   "cell_type": "code",
   "execution_count": 46,
   "id": "ebcdbac7",
   "metadata": {},
   "outputs": [
    {
     "name": "stdout",
     "output_type": "stream",
     "text": [
      "FOREWORD\n",
      "“Happy is the man that findeth wisdom, and the man that getteth understanding.\" -- Proverbs.\n",
      "\n",
      "BOOK, to be worth reading, must do more than amuse and interest. It must be instructive to\n",
      "be of real value to the reader. This book has a three- fold purpose:\n",
      "\n",
      "First, It is an interesting romance.\n",
      "\n",
      "Second, It teaches a moral lesson and proves the natural laws laid down in the Bible.\n",
      "\n",
      "Third, It shows the value of science, foreknowledge and preparedness.\n",
      "\n",
      "It has been well said that truth is stranger than fic- tion. This story is founded on facts and events, many of which have happened or will happen in the future.\n",
      "\n",
      "The \"Tunnel Thru the Air\" is mysterious and con- tains a valuable secret, clothed in veiled language. Some will find it the first time they read it, others will see it in the second reading, but the greatest number will find the hidden secret when they read it the third time.\n",
      "\n",
      "You will read it the first time because you are inter- ested in the love story and for amusement. This will create a desire to read it a second time for instruction and knowledge. The second reading will unfold some of the hidden meanings and you will gain knowledge thru understanding, which will stimulate an incent-\n",
      "\n",
      "\n",
      "\n",
      "\n",
      "\n",
      "\n",
      "\n",
      "\n",
      "\n",
      "FOREWORD\n",
      "\n",
      "ive to put the knowledge gained into action. You will read it the third time because you want to make your dreams and ideals become real and find how to start knowledge into action.\n",
      "\n",
      "When you read it the third time, a new light will dawn. You will find the hidden secret, the veiled meaning and will understand why the Bible says, “Seek and ye shall find, knock and it shall be opened unto you.” You\n",
      "will want to understand more about the Bible. Then read the Bible three times and you will know why it is the greatest book ever written. It contains the key to the process by which you may know all there is to know and get all that you need to supply your demands and desires. You will appreciate why Solomon said, “Wis- dom is the principal thing: therefore get wisdom and with all thy getting, get understanding.” The future\n",
      "will become an open book. You will know that by fol- lowing the laws laid down in the Bible, man’s last great enemy, Death, will be overcome and will understand why Jesus rose on the third day and rested on the seventh day. Robert Gordon’s seven days will no longer be a mystery because you will have gained under- standing.\n",
      "\n",
      "I believe this book will prove interesting and valuable to men and women in all walks of life. If it does,\n",
      "you will be thankful to the power that guided my hand in showing you the way to eternal Truth. My object\n",
      "will have been accomplished and I will have my reward.\n",
      "\n",
      "W.D.GANN.\n",
      "\n",
      "May 9, 1927.\n",
      "\n",
      "\n",
      "\n",
      "\n",
      "\n",
      "\n",
      "\n",
      "\n",
      "\n",
      "\n",
      "THE TUNNEL THRU THE AIR\n",
      "CHAPTER I\n",
      "\n",
      "N the extreme northeastern corner of the Lone Star State of Texas, about eight miles west of Texar-\n",
      "kana, in a lonely farm-house on Sunday morning, June 10th, Amelia Gordon turned over in her bed and watched the sunlight streaming thru the window on the head of her new-born son. She had always hoped that this, her third son, would be born on Sunday, but he was born late Saturday night, June 9th, 1906. A\n",
      "few months before his birth, his mother had suffered\n",
      "a severe shock on account of the death of her oldest son in the San Francisco earthquake in April, and for a time it was feared that her third son might never be born to live. She was happy this Sunday morning\n",
      "when she looked at her bouncing baby boy, dreamed of his future, and thought of what his name should be.\n",
      "\n",
      "Calvin Gordon, the baby’s father, had been a Captain in the U.S. Army in Spain. He had won distinction\n",
      "for his cool courage and daring nerve, and after the close of the Spanish-American war, moved from Tennessee\n",
      "to Texas. Capt. Gordon had been very much depressed after the loss of his eldest son in the San Francisco earthquake, and was very much cheered up at the birth of this boy, and hoped that the youngest son might ful- fill the ambitions he had for his first born.\n",
      "\n",
      "\n",
      "\n",
      "\n",
      "\n",
      "\n",
      "\n",
      "\n",
      "\n",
      "2\n",
      "\n",
      "\n",
      "It had always been the custom of Calvin and Amelia Gordon to go to the little country church every Sunday morning, but this morning Capt. Gordon remained with his wife so that they could talk over the naming of\n",
      "their son. Capt. Gordon suggested the name “Robert,” which was the name of his father, and his wife quickly acquiesced, so the baby was named Robert.\n",
      "\n",
      "Amelia Gordon was a great Bible student, and had always hoped that she would have a son born who would be a preacher, so she thought that little Robert might fulfill her hopes and ambitions.\n",
      "\n",
      "Capt. Gordon was a farmer, growing mostly cotton crops on the Red River bottom lands. The following year, 1907, after the birth of little Robert, Capt. Gor- don's crops were almost a failure. The Spring was\n",
      "late and overflows damaged cotton. This, together with unfavorable financial conditions, caused a panic in the United States in the Fall of 1907. Thus the first year\n",
      "of the boy's life started under unfavorable conditions.\n",
      "\n",
      "When Robert was a little over two years old, his mother gave birth to a girl, the first born to her, but still she showed great interest in Robert; talked much of his future and took great interest in teaching him to live according to the Bible.\n",
      "\n",
      "At about the age of five, his mother began to teach him the alphabet. He learned very quickly how to read and write, before he started to school. He was always willing and glad to go to Sunday School with his mother, took a great interest in the sermon, and what the Sunday School teacher had to say about the creation of the world, and about God’s great plan.\n",
      "\n"
     ]
    }
   ],
   "source": [
    "from docx import Document\n",
    "doc = Document(r'D:\\Test 2\\TTA1.docx')\n",
    "paragraphs = doc.paragraphs\n",
    "\n",
    "for paragraph in paragraphs:\n",
    "    text = paragraph.text\n",
    "    print(text)"
   ]
  },
  {
   "cell_type": "markdown",
   "id": "4b8dff91",
   "metadata": {},
   "source": [
    "8.The Run object has the bold, underline, italic, strike, and outline variables. These variables control the formatting of the text represented by the Run object."
   ]
  },
  {
   "cell_type": "markdown",
   "id": "3078c75f",
   "metadata": {},
   "source": [
    "9. In the context of the bold variable:\n",
    "\n",
    "False: The text is not bold.\n",
    "True: The text is bold.\n",
    "None: The text inherits the bold formatting from its parent (e.g., paragraph or style)."
   ]
  },
  {
   "cell_type": "markdown",
   "id": "5362e02a",
   "metadata": {},
   "source": [
    "10. To create a Document object for a new Word document, you can use the following code:"
   ]
  },
  {
   "cell_type": "code",
   "execution_count": 48,
   "id": "8eb81f64",
   "metadata": {},
   "outputs": [],
   "source": [
    "from docx import Document\n",
    "doc1 = Document()"
   ]
  },
  {
   "cell_type": "markdown",
   "id": "9c653458",
   "metadata": {},
   "source": [
    "11.To add a paragraph with the text \"Hello, there!\" to a Document object stored in a variable named doc, you can use the following code:"
   ]
  },
  {
   "cell_type": "code",
   "execution_count": 49,
   "id": "8617daca",
   "metadata": {},
   "outputs": [
    {
     "data": {
      "text/plain": [
       "<docx.text.paragraph.Paragraph at 0x164a2a800a0>"
      ]
     },
     "execution_count": 49,
     "metadata": {},
     "output_type": "execute_result"
    }
   ],
   "source": [
    "doc1.add_paragraph(\"Hello, there!\")"
   ]
  },
  {
   "cell_type": "code",
   "execution_count": 58,
   "id": "dbe09125",
   "metadata": {},
   "outputs": [
    {
     "name": "stdout",
     "output_type": "stream",
     "text": [
      "Hello, there!\n"
     ]
    }
   ],
   "source": [
    "paras = doc1.paragraphs\n",
    "for para in paras:\n",
    "    text = para.text\n",
    "    print(text)"
   ]
  },
  {
   "cell_type": "markdown",
   "id": "f260399b",
   "metadata": {},
   "source": [
    "12.In Word documents, the levels of headings are represented by the following integers:\n",
    "\n",
    "Heading 1: Level 0\n",
    "Heading 2: Level 1\n",
    "Heading 3: Level 2\n",
    "Heading 4: Level 3\n",
    "Heading 5: Level 4\n",
    "Heading 6: Level 5\n",
    "Heading 7: Level 6\n",
    "Heading 8: Level 7\n",
    "Heading 9: Level 8"
   ]
  },
  {
   "cell_type": "code",
   "execution_count": null,
   "id": "1ddb265f",
   "metadata": {},
   "outputs": [],
   "source": []
  }
 ],
 "metadata": {
  "kernelspec": {
   "display_name": "Python 3 (ipykernel)",
   "language": "python",
   "name": "python3"
  },
  "language_info": {
   "codemirror_mode": {
    "name": "ipython",
    "version": 3
   },
   "file_extension": ".py",
   "mimetype": "text/x-python",
   "name": "python",
   "nbconvert_exporter": "python",
   "pygments_lexer": "ipython3",
   "version": "3.9.12"
  }
 },
 "nbformat": 4,
 "nbformat_minor": 5
}
