{
 "cells": [
  {
   "cell_type": "markdown",
   "id": "c73ff770",
   "metadata": {},
   "source": [
    "1.What advantages do Excel spreadsheets have over CSV spreadsheets?\n",
    "\n",
    "Excel spreadsheets have several advantages over CSV spreadsheets:\n",
    "\n",
    "Excel spreadsheets can contain multiple sheets within a single file, allowing for more organized and structured data.\n",
    "Excel supports formatting options such as cell styling, formulas, charts, and graphs, making it suitable for complex data analysis and presentation.\n",
    "Excel provides built-in functions and features for data manipulation, sorting, filtering, and calculations.\n",
    "Excel supports a wider range of data types, including dates, times, and formulas, whereas CSV files typically store data as plain text.\n",
    "Excel offers a user-friendly interface with features like data validation, conditional formatting, and the ability to create macros for automation."
   ]
  },
  {
   "cell_type": "markdown",
   "id": "3c2fcc94",
   "metadata": {},
   "source": [
    "2. What do you pass to csv.reader() and csv.writer() to create reader and writer objects?\n",
    "To create reader and writer objects using the csv module, you pass a File object to the csv.reader() and csv.writer() functions. The File object should be opened in text mode with the appropriate file mode (e.g., 'r' for reading, 'w' for writing)."
   ]
  },
  {
   "cell_type": "code",
   "execution_count": 10,
   "id": "f65042cf",
   "metadata": {},
   "outputs": [
    {
     "name": "stdout",
     "output_type": "stream",
     "text": [
      "['Shares per lot', 'Entry Buffer', 'Target %', 'Buy', 'Margin', '', '', '', '']\n",
      "['25', '0.15%', '1.50%', 'Sell', '150000', '', '', '', '']\n",
      "['', '', '', '', '', '', '', '', '']\n",
      "['', '', '', '', '', '', '', '', '']\n",
      "['Date', 'Open', 'High', 'Low', 'Close', '', 'Trade', '', 'HH / LL']\n",
      "['30-Dec-21', '34977.65', '35179.05', '34751.25', '35063.6', '', '', '', '']\n",
      "['31-Dec-21', '35114.4', '35596.95', '35113.75', '35481.7', '', '', '', '']\n",
      "['3-Jan-22', '35585.2', '36492.1', '35526.6', '36421.9', 'Buy', 'Buy', 'Buy', '35596.95']\n",
      "['4-Jan-22', '36551.25', '36887.8', '36374.4', '36840.15', 'Buy', 'Buy', 'No Trade', '']\n",
      "['5-Jan-22', '36943.55', '37862.4', '36756.35', '37695.9', 'Buy', 'Buy', 'No Trade', '']\n",
      "['6-Jan-22', '37242.55', '37752.5', '37058.45', '37490.25', 'No Trade', 'Buy', 'No Trade', '']\n",
      "['7-Jan-22', '37667.05', '38134.85', '37427.8', '37739.6', 'Buy', 'Buy', 'No Trade', '']\n",
      "['10-Jan-22', '37930.55', '38400.35', '37929.35', '38347.9', 'Buy', 'Buy', 'No Trade', '']\n",
      "['11-Jan-22', '38370', '38504.6', '38031.75', '38442.2', 'Buy', 'Buy', 'No Trade', '']\n",
      "['12-Jan-22', '38719.6', '38851.45', '38604.6', '38727.55', 'Buy', 'Buy', 'No Trade', '']\n",
      "['13-Jan-22', '38717.55', '38717.55', '38376.15', '38469.95', 'No Trade', 'Buy', 'No Trade', '']\n",
      "['14-Jan-22', '38302.35', '38448.05', '38007.75', '38370.4', 'Sell', 'Sell', 'Sell', '38376.15']\n",
      "['17-Jan-22', '38212.55', '38617.5', '38138.25', '38216.15', 'No Trade', 'Sell', 'No Trade', '']\n",
      "['18-Jan-22', '38337.4', '38855.55', '38095.4', '38210.3', 'Buy', 'Buy', 'Buy', '38617.5']\n",
      "['19-Jan-22', '38145.75', '38330.5', '37769.25', '38041.35', 'Sell', 'Sell', 'Sell', '38095.4']\n",
      "['20-Jan-22', '38106.1', '38167.95', '37591.85', '37850.85', 'Sell', 'Sell', 'No Trade', '']\n",
      "['21-Jan-22', '37522.35', '37741', '37224.25', '37574.3', 'Sell', 'Sell', 'No Trade', '']\n",
      "['24-Jan-22', '37601.95', '37694.7', '36375.35', '36947.55', 'Sell', 'Sell', 'No Trade', '']\n",
      "['25-Jan-22', '36598.05', '37788.8', '36415.6', '37706.75', 'Buy', 'Buy', 'Buy', '37741']\n",
      "['27-Jan-22', '37058.2', '38147.65', '37012.25', '37982.1', 'Buy', 'Buy', 'No Trade', '']\n",
      "['28-Jan-22', '38246.6', '38421.7', '37581.5', '37689.4', 'Buy', 'Buy', 'No Trade', '']\n",
      "['31-Jan-22', '38091.8', '38217.25', '37647.85', '37975.35', 'No Trade', 'Buy', 'No Trade', '']\n",
      "['1-Feb-22', '38460.45', '38802.7', '37690.6', '38505.5', 'Buy', 'Buy', 'No Trade', '']\n",
      "['2-Feb-22', '38841.55', '39386.6', '38752.65', '39330.5', 'Buy', 'Buy', 'No Trade', '']\n",
      "['3-Feb-22', '39255.7', '39424.85', '38861.15', '39010', 'Buy', 'Buy', 'No Trade', '']\n",
      "['4-Feb-22', '39128', '39278.6', '38562.6', '38789.35', 'Sell', 'Sell', 'Sell', '38752.65']\n",
      "['7-Feb-22', '38592.05', '38837.55', '37802.7', '37995.45', 'Sell', 'Sell', 'No Trade', '']\n",
      "['8-Feb-22', '38176.1', '38222.1', '37319.05', '38028.45', 'Sell', 'Sell', 'No Trade', '']\n",
      "['9-Feb-22', '38283.6', '38648.15', '38192', '38610.25', 'No Trade', 'Sell', 'No Trade', '']\n",
      "['10-Feb-22', '38801.45', '39197.2', '38520', '39010.95', 'Buy', 'Buy', 'Buy', '38648.15']\n",
      "['11-Feb-22', '38567.65', '38790.25', '38396.4', '38517.25', 'No Trade', 'Buy', 'No Trade', '']\n",
      "['14-Feb-22', '37664', '37796.55', '36828.05', '36908.55', 'Sell', 'Sell', 'Sell', '38396.4']\n",
      "['15-Feb-22', '36989.8', '38231.6', '36651.85', '38170.1', 'Sell', 'Sell', 'No Trade', '']\n",
      "['16-Feb-22', '38296.5', '38461.7', '37762.8', '37953.8', 'Buy', 'Buy', 'Buy', '38231.6']\n",
      "['17-Feb-22', '38042.1', '38124.5', '37425.6', '37531.65', 'No Trade', 'Buy', 'No Trade', '']\n",
      "['18-Feb-22', '37344.45', '37817.55', '37304.45', '37599.15', 'Sell', 'Sell', 'Sell', '37425.6']\n",
      "['21-Feb-22', '37400', '38054.4', '37156.8', '37685.6', 'Sell', 'Sell', 'No Trade', '']\n",
      "['22-Feb-22', '36833', '37659.4', '36818.1', '37371.65', 'Sell', 'Sell', 'No Trade', '']\n",
      "['23-Feb-22', '37628.55', '37774.6', '37318', '37392.05', 'No Trade', 'Sell', 'No Trade', '']\n",
      "['24-Feb-22', '36085.2', '36709.15', '34991.35', '35228.1', 'Sell', 'Sell', 'No Trade', '']\n",
      "['25-Feb-22', '35901.7', '36684.65', '35768.2', '36430.75', 'No Trade', 'Sell', 'No Trade', '']\n",
      "['28-Feb-22', '35938.95', '36270.25', '35611.9', '36205.3', 'No Trade', 'Sell', 'No Trade', '']\n",
      "['2-Mar-22', '35381.9', '35553.7', '34897.45', '35372.8', 'Sell', 'Sell', 'No Trade', '']\n",
      "['3-Mar-22', '35621.15', '35804.15', '34721.15', '34944.3', 'Sell', 'Sell', 'No Trade', '']\n",
      "['4-Mar-22', '34526.1', '35097.75', '34094.1', '34407.8', 'Sell', 'Sell', 'No Trade', '']\n",
      "['7-Mar-22', '33278.15', '33543.3', '32376.5', '32871.25', 'Sell', 'Sell', 'No Trade', '']\n",
      "['8-Mar-22', '32531.9', '33263.55', '32155.35', '33158.1', 'Sell', 'Sell', 'No Trade', '']\n",
      "['9-Mar-22', '33278.9', '33969.5', '32948.9', '33815.45', 'Buy', 'Buy', 'Buy', '33543.3']\n",
      "['10-Mar-22', '35153.95', '35374.15', '34218.05', '34475.6', 'Buy', 'Buy', 'No Trade', '']\n",
      "['11-Mar-22', '34331', '34880.05', '34094.3', '34546.25', 'No Trade', 'Buy', 'No Trade', '']\n",
      "['14-Mar-22', '34660.25', '35435.1', '34625.05', '35312.15', 'Buy', 'Buy', 'No Trade', '']\n",
      "['15-Mar-22', '35467.95', '35643.8', '34706.05', '35022.65', 'Buy', 'Buy', 'No Trade', '']\n",
      "['16-Mar-22', '35555.75', '35806.35', '35461.55', '35748.25', 'Buy', 'Buy', 'No Trade', '']\n",
      "['17-Mar-22', '36302', '36611.95', '36261.65', '36428.55', 'Buy', 'Buy', 'No Trade', '']\n",
      "['21-Mar-22', '36545.85', '36600.2', '35900.2', '36018.5', 'No Trade', 'Buy', 'No Trade', '']\n",
      "['22-Mar-22', '35975.6', '36468.8', '35384.75', '36348.55', 'Sell', 'Sell', 'Sell', '35900.2']\n",
      "['23-Mar-22', '36627.7', '36827.6', '36064.75', '36147.35', 'Buy', 'Buy', 'Buy', '36600.2']\n",
      "['24-Mar-22', '35633.7', '35957.7', '35421.7', '35527.1', 'No Trade', 'Buy', 'No Trade', '']\n",
      "['25-Mar-22', '35700.4', '35717.4', '35203.85', '35410.1', 'Sell', 'Sell', 'Sell', '35421.7']\n",
      "['28-Mar-22', '35488.7', '35770.8', '35016.3', '35710.5', 'Sell', 'Sell', 'No Trade', '']\n",
      "['29-Mar-22', '35931.75', '35977.2', '35506.55', '35847.4', 'Buy', 'Buy', 'Buy', '35770.8']\n",
      "['30-Mar-22', '36241.55', '36421.1', '36070.55', '36334.3', 'Buy', 'Buy', 'No Trade', '']\n",
      "['31-Mar-22', '36457.2', '36590.85', '36278.15', '36373.6', 'Buy', 'Buy', 'No Trade', '']\n",
      "['1-Apr-22', '36298.35', '37209.8', '36242.35', '37148.5', 'Buy', 'Buy', 'No Trade', '']\n",
      "['4-Apr-22', '37824.95', '38765.85', '37665.55', '38635.2', 'Buy', 'Buy', 'No Trade', '']\n",
      "['5-Apr-22', '38731.3', '38759.25', '37935.95', '38067.9', 'No Trade', 'Buy', 'No Trade', '']\n",
      "['6-Apr-22', '37711.3', '37868.5', '37513.85', '37632.8', 'Sell', 'Sell', 'Sell', '37665.55']\n",
      "['7-Apr-22', '37421.75', '37975.9', '37346.8', '37557.35', 'Sell', 'Sell', 'No Trade', '']\n",
      "['8-Apr-22', '37619.7', '37884.2', '37405.2', '37752.05', 'No Trade', 'Sell', 'No Trade', '']\n",
      "['11-Apr-22', '37591.75', '37941.75', '37524.45', '37613.8', 'No Trade', 'Sell', 'No Trade', '']\n",
      "['12-Apr-22', '37407.4', '37920.6', '37264.45', '37747.4', 'Sell', 'Sell', 'No Trade', '']\n",
      "['13-Apr-22', '37887.3', '37988.6', '37408.2', '37463.4', 'Buy', 'Buy', 'Buy', '37941.75']\n",
      "['18-Apr-22', '36833.15', '36965.85', '36441.35', '36729', 'Sell', 'Sell', 'Sell', '37264.45']\n",
      "['19-Apr-22', '36806.8', '37123.55', '35926.3', '36341.6', 'Sell', 'Sell', 'No Trade', '']\n",
      "['20-Apr-22', '36482.6', '36513.85', '36114.05', '36314.9', 'No Trade', 'Sell', 'No Trade', '']\n",
      "['21-Apr-22', '36513.1', '36913.35', '36395.7', '36816.1', 'No Trade', 'Sell', 'No Trade', '']\n",
      "['22-Apr-22', '36514.15', '36578.95', '35991.5', '36044.75', 'Sell', 'Sell', 'No Trade', '']\n",
      "['25-Apr-22', '35792.35', '36270.15', '35511.4', '36082.35', 'Sell', 'Sell', 'No Trade', '']\n",
      "['26-Apr-22', '36515.35', '36604.55', '36265.9', '36404.8', 'Buy', 'Buy', 'Buy', '36578.95']\n",
      "['27-Apr-22', '36067.55', '36175.9', '35747.15', '36028.85', 'No Trade', 'Buy', 'No Trade', '']\n",
      "['28-Apr-22', '36189.95', '36501.1', '35951.1', '36422.2', 'No Trade', 'Buy', 'No Trade', '']\n",
      "['29-Apr-22', '36474.05', '36718.8', '35978.95', '36088.15', 'Buy', 'Buy', 'No Trade', '']\n",
      "['2-May-22', '35627.6', '36235.25', '35618.2', '36163.75', 'Sell', 'Sell', 'Sell', '35951.1']\n",
      "['4-May-22', '36266.15', '36309.3', '35127.85', '35264.55', 'Sell', 'Sell', 'No Trade', '']\n",
      "['5-May-22', '35705.35', '35934.85', '35133.8', '35232.85', 'No Trade', 'Sell', 'No Trade', '']\n",
      "['6-May-22', '34569.1', '34797.95', '34353.2', '34591.2', 'Sell', 'Sell', 'No Trade', '']\n",
      "['9-May-22', '34091.75', '34554.35', '33927.2', '34275.4', 'Sell', 'Sell', 'No Trade', '']\n",
      "['10-May-22', '34181.2', '34781.8', '34176.8', '34482.65', 'No Trade', 'Sell', 'No Trade', '']\n",
      "['11-May-22', '34686.3', '34793.2', '34143.2', '34693.15', 'Buy', 'Buy', 'Buy', '34781.8']\n",
      "['12-May-22', '34289.1', '34341.2', '33297.65', '33532.15', 'Sell', 'Sell', 'Sell', '34143.2']\n",
      "['13-May-22', '33925.95', '34002.2', '33007.9', '33121.35', 'Sell', 'Sell', 'No Trade', '']\n",
      "['16-May-22', '33256', '33821.65', '33001.75', '33597.6', 'Sell', 'Sell', 'No Trade', '']\n",
      "['17-May-22', '33796.2', '34366.05', '33680.6', '34301.9', 'Buy', 'Buy', 'Buy', '34002.2']\n",
      "['18-May-22', '34448.2', '34655.8', '34134.7', '34163.7', 'Buy', 'Buy', 'No Trade', '']\n",
      "['19-May-22', '33461', '33633.95', '33180.6', '33315.65', 'Sell', 'Sell', 'Sell', '33680.6']\n",
      "['20-May-22', '33765.15', '34358.05', '33658.05', '34276.4', 'No Trade', 'Sell', 'No Trade', '']\n",
      "['23-May-22', '34321.4', '34819.95', '34117.35', '34247.6', 'Buy', 'Buy', 'Buy', '34358.05']\n",
      "['24-May-22', '34223.2', '34586.45', '34115.8', '34290.15', 'No Trade', 'Buy', 'No Trade', '']\n",
      "['25-May-22', '34491.8', '34722.6', '34285.8', '34339.5', 'No Trade', 'Buy', 'No Trade', '']\n",
      "['26-May-22', '34670.6', '35222.05', '34424.75', '35094.9', 'Buy', 'Buy', 'No Trade', '']\n",
      "['27-May-22', '35326.6', '35694.85', '35291.95', '35613.3', 'Buy', 'Buy', 'No Trade', '']\n",
      "['30-May-22', '35958.8', '36083.7', '35748.45', '35826.95', 'Buy', 'Buy', 'No Trade', '']\n",
      "['31-May-22', '35615.3', '35881.95', '35288.95', '35487.4', 'Sell', 'Sell', 'Sell', '35291.95']\n",
      "['1-Jun-22', '35358.95', '35768.7', '35285.45', '35620.8', 'Sell', 'Sell', 'No Trade', '']\n",
      "['2-Jun-22', '35470.95', '35676.2', '35385', '35613.65', 'No Trade', 'Sell', 'No Trade', '']\n",
      "['3-Jun-22', '35929.55', '35958.45', '35175.1', '35275.05', 'Buy', 'Buy', 'Buy', '35768.7']\n",
      "['6-Jun-22', '35159.15', '35424.5', '35072.3', '35310.2', 'Sell', 'Sell', 'Sell', '35175.1']\n",
      "['7-Jun-22', '35080.8', '35154.3', '34834.4', '34996', 'Sell', 'Sell', 'No Trade', '']\n",
      "['8-Jun-22', '35165.65', '35449.9', '34831.75', '34946.15', 'Buy', 'Buy', 'Buy', '35424.5']\n",
      "['9-Jun-22', '34802.25', '35149.1', '34659.1', '35085.45', 'Sell', 'Sell', 'Sell', '34831.75']\n",
      "['10-Jun-22', '34686.95', '34752.45', '34346.65', '34483.8', 'Sell', 'Sell', 'No Trade', '']\n",
      "['13-Jun-22', '33728.65', '33774.05', '33210.35', '33405.85', 'Sell', 'Sell', 'No Trade', '']\n",
      "['14-Jun-22', '33180.6', '33618.15', '33123.9', '33311.35', 'Sell', 'Sell', 'No Trade', '']\n",
      "['15-Jun-22', '33317.8', '33554.55', '33249.55', '33339', 'No Trade', 'Sell', 'No Trade', '']\n",
      "['16-Jun-22', '33648.8', '33756.5', '32537.95', '32617.1', 'Buy', 'Buy', 'Buy', '33618.15']\n",
      "['17-Jun-22', '32393.45', '32889.8', '32290.55', '32743.05', 'Sell', 'Sell', 'Sell', '32537.95']\n",
      "['20-Jun-22', '32873.4', '32926.1', '32426.4', '32684.8', 'No Trade', 'Sell', 'No Trade', '']\n",
      "['21-Jun-22', '32978.05', '33593.8', '32797.55', '33191.75', 'Buy', 'Buy', 'Buy', '32926.1']\n",
      "['22-Jun-22', '33051.65', '33106.95', '32758.15', '32845.3', 'No Trade', 'Buy', 'No Trade', '']\n",
      "['23-Jun-22', '32927.4', '33431.75', '32652.15', '33135', 'Sell', 'Sell', 'Sell', '32758.15']\n",
      "['24-Jun-22', '33434.8', '33721.9', '33390.85', '33627.45', 'Buy', 'Buy', 'Buy', '33431.75']\n",
      "['27-Jun-22', '34126.2', '34147.5', '33735.5', '33811.25', 'Buy', 'Buy', 'No Trade', '']\n",
      "['28-Jun-22', '33578.2', '33745.3', '33503.3', '33642.45', 'No Trade', 'Buy', 'No Trade', '']\n",
      "['29-Jun-22', '33273.55', '33422.8', '33185.25', '33269.9', 'Sell', 'Sell', 'Sell', '33503.3']\n",
      "['30-Jun-22', '33180.7', '33659.3', '33179.6', '33425.1', 'Sell', 'Sell', 'No Trade', '']\n",
      "['1-Jul-22', '33264.75', '33666.5', '33080.45', '33539.45', 'Buy', 'Buy', 'Buy', '33659.3']\n"
     ]
    }
   ],
   "source": [
    "import csv\n",
    "with open(r'D:\\Test 2\\data.csv','r') as file:\n",
    "    reader =  csv.reader(file)\n",
    "\n",
    "    for row in reader:\n",
    "        print(row[1:10])\n",
    "        \n",
    "\n",
    "\n"
   ]
  },
  {
   "cell_type": "code",
   "execution_count": 16,
   "id": "56f96856",
   "metadata": {},
   "outputs": [],
   "source": [
    "with open(r'D:\\Test 2\\output.csv', 'w', newline='') as file:\n",
    "    writer = csv.writer(file)\n",
    "    \n",
    "    writer.writerow(['John', 'Doe', 'john.doe@example.com'])\n",
    "    writer.writerow(['Jane', 'Smith', 'jane.smith@example.com'])"
   ]
  },
  {
   "cell_type": "code",
   "execution_count": 17,
   "id": "b4cb2dcd",
   "metadata": {},
   "outputs": [
    {
     "name": "stdout",
     "output_type": "stream",
     "text": [
      "['John', 'Doe', 'john.doe@example.com']\n",
      "['Jane', 'Smith', 'jane.smith@example.com']\n"
     ]
    }
   ],
   "source": [
    "with open(r'D:\\Test 2\\output.csv', 'r') as file:\n",
    "    reader_op = csv.reader(file)\n",
    "    \n",
    "    for i in reader_op:\n",
    "        print(i)"
   ]
  },
  {
   "cell_type": "markdown",
   "id": "7ea1be17",
   "metadata": {},
   "source": [
    "3.What modes do File objects for reader and writer objects need to be opened in?\n",
    "For a reader object, the File object needs to be opened in text mode with the 'r' mode, indicating read access.\n",
    "\n",
    "For a writer object, the File object needs to be opened in text mode with the 'w' mode, indicating write access. This mode will overwrite the existing content of the file or create a new file if it doesn't exist."
   ]
  },
  {
   "cell_type": "markdown",
   "id": "b6173673",
   "metadata": {},
   "source": [
    "4.What method takes a list argument and writes it to a CSV file?\n",
    "The writerow() method of a writer object is used to write a list argument to a CSV file as a single row.\n",
    "below code will append data in csv"
   ]
  },
  {
   "cell_type": "code",
   "execution_count": 20,
   "id": "8edd62d4",
   "metadata": {},
   "outputs": [],
   "source": [
    "data = ['sushant', 'pawar', 'karen.doe@example.com']\n",
    "with open(r'D:\\Test 2\\output.csv', 'a', newline='') as file:\n",
    "    writer = csv.writer(file)\n",
    "    writer.writerow(data)\n",
    "\n",
    "\n"
   ]
  },
  {
   "cell_type": "markdown",
   "id": "bb513745",
   "metadata": {},
   "source": [
    "5.What do the keyword arguments delimiter and line terminator do?\n",
    "The keyword argument delimiter is used to specify the character used to separate fields in a CSV file. By default, it is set to a comma (','), but you can specify a different delimiter if needed.\n",
    "\n",
    "The keyword argument lineterminator is used to specify the character(s) used to terminate each line in a CSV file. By default, it is set to '\\r\\n' (CRLF), but you can specify a different line terminator according to your requirements."
   ]
  },
  {
   "cell_type": "markdown",
   "id": "4cd587fd",
   "metadata": {},
   "source": [
    "6.What function takes a string of JSON data and returns a Python data structure?\n",
    "The json.loads() function is used to parse a string of JSON data and convert it into a Python data structure. It stands for \"load string.\""
   ]
  },
  {
   "cell_type": "code",
   "execution_count": 23,
   "id": "0e9d81ef",
   "metadata": {},
   "outputs": [
    {
     "name": "stdout",
     "output_type": "stream",
     "text": [
      "{'name': 'John', 'age': 30, 'city': 'New York'}\n"
     ]
    }
   ],
   "source": [
    "import json\n",
    "json_data = '{\"name\": \"John\", \"age\": 30, \"city\": \"New York\"}'\n",
    "data = json.loads(json_data)\n",
    "\n",
    "print(data)"
   ]
  },
  {
   "cell_type": "code",
   "execution_count": null,
   "id": "2f44118f",
   "metadata": {},
   "outputs": [],
   "source": []
  }
 ],
 "metadata": {
  "kernelspec": {
   "display_name": "Python 3 (ipykernel)",
   "language": "python",
   "name": "python3"
  },
  "language_info": {
   "codemirror_mode": {
    "name": "ipython",
    "version": 3
   },
   "file_extension": ".py",
   "mimetype": "text/x-python",
   "name": "python",
   "nbconvert_exporter": "python",
   "pygments_lexer": "ipython3",
   "version": "3.9.12"
  }
 },
 "nbformat": 4,
 "nbformat_minor": 5
}
