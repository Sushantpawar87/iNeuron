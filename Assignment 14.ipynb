{
 "cells": [
  {
   "cell_type": "markdown",
   "id": "a98f7124",
   "metadata": {},
   "source": [
    "1.What does RGBA stand for?\n",
    "\n",
    "RGBA stands for Red, Green, Blue, and Alpha."
   ]
  },
  {
   "cell_type": "markdown",
   "id": "138f1aac",
   "metadata": {},
   "source": [
    "2.From the Pillow module, how do you get the RGBA value of any images?\n",
    "\n",
    "To get the RGBA value of an image using the Pillow module, you can use the image.getpixel() method."
   ]
  },
  {
   "cell_type": "code",
   "execution_count": 5,
   "id": "bb94ad21",
   "metadata": {},
   "outputs": [
    {
     "name": "stdout",
     "output_type": "stream",
     "text": [
      "(187, 168, 126)\n"
     ]
    }
   ],
   "source": [
    "from PIL import Image\n",
    "image = Image.open(r'D:\\Test 2\\image.jpeg')\n",
    "x = 100\n",
    "y = 200\n",
    "\n",
    "rgba = image.getpixel((x,y))\n",
    "\n",
    "print(rgba)"
   ]
  },
  {
   "cell_type": "markdown",
   "id": "28bdfb2b",
   "metadata": {},
   "source": [
    "3.What is a box tuple, and how does it work?\n",
    "\n",
    "A box tuple in the context of the Pillow module represents a rectangular region within an image. It is a tuple that consists of four values: (left, upper, right, lower). The left and upper values define the coordinates of the top-left corner of the box, and the right and lower values define the coordinates of the bottom-right corner of the box."
   ]
  },
  {
   "cell_type": "code",
   "execution_count": 14,
   "id": "e778997d",
   "metadata": {},
   "outputs": [],
   "source": [
    "from PIL import Image\n",
    "image = Image.open(r'D:\\Test 2\\image.jpeg')\n",
    "box = (150,150,200,200)\n",
    "cropped_image = image.crop(box)\n",
    "\n",
    "cropped_image.show()"
   ]
  },
  {
   "cell_type": "markdown",
   "id": "6deb49e0",
   "metadata": {},
   "source": [
    "4.Use your image and load it in a notebook. How can you find out the width and height of an Image object?\n",
    "\n",
    "To find out the width and height of an Image object in Python, you can use the Image.size attribute. It returns a tuple containing the width and height of the image in pixels."
   ]
  },
  {
   "cell_type": "code",
   "execution_count": 12,
   "id": "ebce8fff",
   "metadata": {},
   "outputs": [
    {
     "name": "stdout",
     "output_type": "stream",
     "text": [
      "(960, 1280)\n"
     ]
    }
   ],
   "source": [
    "size = image.size\n",
    "print(size)"
   ]
  },
  {
   "cell_type": "markdown",
   "id": "bccd8518",
   "metadata": {},
   "source": [
    "5.What method would you call to get an Image object for a 100×100 image, excluding the lower-left quarter of it?\n",
    "\n",
    "To get an Image object for a 100x100 image, excluding the lower-left quarter, you can use the Image.crop() method. You would specify the coordinates of the desired region to be cropped using a box tuple, and then call the crop() method on the Image object."
   ]
  },
  {
   "cell_type": "markdown",
   "id": "e7e8abee",
   "metadata": {},
   "source": [
    "6.After making changes to an Image object, how could you save it as an image file?\n",
    "\n",
    "To save an Image object as an image file after making changes, you can use the Image.save() method. Specify the filename and the desired file format (e.g., JPEG, PNG) as arguments to the save() method."
   ]
  },
  {
   "cell_type": "markdown",
   "id": "ec6babb3",
   "metadata": {},
   "source": [
    "7.What module contains Pillow's shape-drawing code?\n",
    "\n",
    "The module that contains Pillow's shape-drawing code is ImageDraw. It is part of the Pillow library and provides functions for drawing shapes such as lines, rectangles, circles, and text on Image objects."
   ]
  },
  {
   "cell_type": "code",
   "execution_count": 17,
   "id": "5b9166f9",
   "metadata": {},
   "outputs": [],
   "source": [
    "from PIL import ImageDraw\n",
    "image = Image.new('RGB',(400,300),'white')\n",
    "\n",
    "draw = ImageDraw.Draw(image)\n",
    "rectangle = (50,50,200,150)\n",
    "draw.rectangle(rectangle,fill = 'red')\n",
    "\n",
    "ellipse = (250, 100, 350, 200)\n",
    "draw.ellipse(ellipse,fill = 'blue')\n",
    "\n",
    "image.save('shapes.png')\n",
    "image.show()\n"
   ]
  },
  {
   "cell_type": "markdown",
   "id": "cbdd92fd",
   "metadata": {},
   "source": [
    "8.Image objects do not have drawing methods. What kind of object does? How do you get this kind of object?\n",
    "\n",
    "The ImageDraw object from the Pillow module provides the drawing methods for drawing shapes on Image objects. You can create an ImageDraw object by calling the ImageDraw.Draw() function and passing the Image object as an argument."
   ]
  }
 ],
 "metadata": {
  "kernelspec": {
   "display_name": "Python 3 (ipykernel)",
   "language": "python",
   "name": "python3"
  },
  "language_info": {
   "codemirror_mode": {
    "name": "ipython",
    "version": 3
   },
   "file_extension": ".py",
   "mimetype": "text/x-python",
   "name": "python",
   "nbconvert_exporter": "python",
   "pygments_lexer": "ipython3",
   "version": "3.9.12"
  }
 },
 "nbformat": 4,
 "nbformat_minor": 5
}
