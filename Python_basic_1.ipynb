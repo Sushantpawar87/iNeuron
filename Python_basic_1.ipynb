{
 "cells": [
  {
   "cell_type": "markdown",
   "id": "320ef298-5a7a-4c59-ad14-84621fabc654",
   "metadata": {},
   "source": [
    "\n",
    "1. In the below elements which of them are values or an expression? eg:- values can be\n",
    "integer or string and expressions will be mathematical operators.\n",
    "* -- expression\n",
    "&#39 -- Value\n",
    "hello&#39 -- Value\n",
    "-87.8 -- value\n",
    "- -- expression\n",
    "/  -- expression\n",
    "+ -- expression\n",
    "6 -- Value\n",
    "'''"
   ]
  },
  {
   "cell_type": "markdown",
   "id": "f1e1ac14-da6f-49eb-87c6-ca4afe55ea40",
   "metadata": {},
   "source": [
    "2. What is the difference between string and variable?\n",
    "\n",
    "Variables are symbols that you can use to store data in a program\n",
    "\n",
    "Strings are basically a data which can get into the variable"
   ]
  },
  {
   "cell_type": "markdown",
   "id": "e6147865-5b47-4631-a49c-6748089c340e",
   "metadata": {},
   "source": [
    "3. Describe three different data types.\n",
    "\n",
    "Numeric data types: int, float, complex.\n",
    "String data types: str.\n",
    "Sequence types: list, tuple, range\n",
    "Mapping data type: dict.\n",
    "Boolean type: bool."
   ]
  },
  {
   "cell_type": "markdown",
   "id": "d2a7f706-d93c-4c0f-892c-b49518c74df6",
   "metadata": {},
   "source": [
    "4.What is an expression made up of? What do all expressions do?\n",
    "\n",
    "n expression in Python is a combination of operators and operands"
   ]
  },
  {
   "cell_type": "markdown",
   "id": "5b36ec23-8e07-4abc-9c67-06425b415bad",
   "metadata": {},
   "source": [
    "5.This assignment statements, like spam = 10. What is the difference between an expression and a statement?\n",
    "\n",
    "an “expression” is a combination of values and functions that are combined and interpreted by the compiler to create a new value, as opposed to a “statement” which is just a standalone unit of execution and doesn't return anything."
   ]
  },
  {
   "cell_type": "markdown",
   "id": "7efedc78-8560-49e5-baaf-6c572c869779",
   "metadata": {},
   "source": [
    "6. After running the following code, what does the variable bacon contain? bacon = 22 bacon + 1"
   ]
  },
  {
   "cell_type": "code",
   "execution_count": 1,
   "id": "c1578c54-b33b-46e0-8896-521f2bb3fe76",
   "metadata": {},
   "outputs": [
    {
     "data": {
      "text/plain": [
       "23"
      ]
     },
     "execution_count": 1,
     "metadata": {},
     "output_type": "execute_result"
    }
   ],
   "source": [
    "bacon = 22\n",
    "bacon + 1"
   ]
  },
  {
   "cell_type": "markdown",
   "id": "b996da06-a844-4630-bee8-e8fcb67fe29b",
   "metadata": {},
   "source": [
    "7. What should the values of the following two terms be? 'spam' + 'spamspam' 'spam' * 3"
   ]
  },
  {
   "cell_type": "code",
   "execution_count": 2,
   "id": "12bcc179-7d15-438f-91c3-fc6a7b2ac6a3",
   "metadata": {},
   "outputs": [
    {
     "data": {
      "text/plain": [
       "'spamspamspamspamspamspamspamspamspamspam'"
      ]
     },
     "execution_count": 2,
     "metadata": {},
     "output_type": "execute_result"
    }
   ],
   "source": [
    "'spam' + 'spamspam' 'spam' * 3"
   ]
  },
  {
   "cell_type": "markdown",
   "id": "ea2074f3-2cfe-49df-aba4-980e1f096342",
   "metadata": {},
   "source": [
    "8.  Why is eggs a valid variable name while 100 is invalid?\n",
    "\n",
    "A variable is a letter or a symbol used to represent any number.  the letter is going to represent the same number within that specific problem but the same letter could represent different numbers between different problems.\n"
   ]
  },
  {
   "cell_type": "markdown",
   "id": "f4d7f458-38e0-4fc5-be2f-f924d24a4038",
   "metadata": {},
   "source": [
    "9.  What three functions can be used to get the integer, floating-point number, or string version of a value?\n",
    "\n",
    "int()\n",
    "float()\n",
    "str()"
   ]
  },
  {
   "cell_type": "markdown",
   "id": "0077e2e9-f5a8-4a5d-b8a8-4c0fcb3eaeee",
   "metadata": {},
   "source": [
    "10. Why does this expression cause an error? How can you fix it? 'I have eaten ' + 99 + ' burritos.'\n",
    "\n",
    "Because we can not add string with int. we need to convert int to string"
   ]
  },
  {
   "cell_type": "code",
   "execution_count": 4,
   "id": "c082d9ee-5c75-49c5-8c68-435686bc13ec",
   "metadata": {},
   "outputs": [
    {
     "data": {
      "text/plain": [
       "'I have eaten 99 burritos.'"
      ]
     },
     "execution_count": 4,
     "metadata": {},
     "output_type": "execute_result"
    }
   ],
   "source": [
    "'I have eaten ' + '99' + ' burritos.'"
   ]
  },
  {
   "cell_type": "code",
   "execution_count": null,
   "id": "2d56c1a4-d8f9-4d9e-b78d-cb70fc47cdf7",
   "metadata": {},
   "outputs": [],
   "source": []
  }
 ],
 "metadata": {
  "kernelspec": {
   "display_name": "Python 3 (ipykernel)",
   "language": "python",
   "name": "python3"
  },
  "language_info": {
   "codemirror_mode": {
    "name": "ipython",
    "version": 3
   },
   "file_extension": ".py",
   "mimetype": "text/x-python",
   "name": "python",
   "nbconvert_exporter": "python",
   "pygments_lexer": "ipython3",
   "version": "3.10.6"
  }
 },
 "nbformat": 4,
 "nbformat_minor": 5
}
