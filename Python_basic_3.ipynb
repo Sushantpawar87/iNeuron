{
 "cells": [
  {
   "cell_type": "markdown",
   "id": "44f4fc15-7a6b-4346-b5e8-386ce85fffd4",
   "metadata": {},
   "source": [
    "1. Why are functions advantageous to have in your programs?"
   ]
  },
  {
   "cell_type": "markdown",
   "id": "1efb48c6-67fd-4339-b346-11b1226ea117",
   "metadata": {},
   "source": [
    "It helps to avoid repeatatively writing the same code again n again\n",
    "once function written, we can call it whenever required. It makes code compact and fast to execute"
   ]
  },
  {
   "cell_type": "markdown",
   "id": "bc6c7e0a-4199-4fd7-95f2-3ddbb29c07a2",
   "metadata": {},
   "source": [
    "2. When does the code in a function run: when it's specified or when it's called?"
   ]
  },
  {
   "cell_type": "markdown",
   "id": "2f00951c-956b-4c83-9d5e-da181cc61207",
   "metadata": {},
   "source": [
    "Code in function only run when function is called"
   ]
  },
  {
   "cell_type": "markdown",
   "id": "a1e723de-323b-4e10-a092-dcdfb865785b",
   "metadata": {},
   "source": [
    "3. What statement creates a function?"
   ]
  },
  {
   "cell_type": "markdown",
   "id": "709a628d-7d21-4780-81de-d9d293a75511",
   "metadata": {},
   "source": [
    "def function_name():"
   ]
  },
  {
   "cell_type": "markdown",
   "id": "58b213d4-9961-4f2a-8c4e-c9ed33715ab8",
   "metadata": {},
   "source": [
    "4. What is the difference between a function and a function call?"
   ]
  },
  {
   "cell_type": "markdown",
   "id": "f0f6648c-8612-4d40-b8d0-0dbc5a967043",
   "metadata": {},
   "source": [
    "A function is a block of code that does a particular operation and returns a result. It usually accepts inputs as parameters and returns a result. The parameters are not mandatory. A function call is the code used to pass control to a function"
   ]
  },
  {
   "cell_type": "markdown",
   "id": "b4bae43d-9283-4098-b278-8d2c36bfc559",
   "metadata": {},
   "source": [
    "5. How many global scopes are there in a Python program? How many local scopes?"
   ]
  },
  {
   "cell_type": "markdown",
   "id": "00842b65-78ce-4df5-877c-a27dfef83bd4",
   "metadata": {},
   "source": [
    "At any given time during execution, you'll have at most four active Python scopes—local, enclosing, global, and built-in—depending on where you are in the code. On the other hand, you'll always have at least two active scopes, which are the global and built-in scopes"
   ]
  },
  {
   "cell_type": "markdown",
   "id": "75382de9-a214-43a6-8800-36cc95ba69be",
   "metadata": {},
   "source": [
    "6. What happens to variables in a local scope when the function call returns?"
   ]
  },
  {
   "cell_type": "markdown",
   "id": "1157ee43-478d-4572-b030-fdb74cbbfe54",
   "metadata": {},
   "source": [
    "Since local variables are only recognized inside their functions, variables with the same name can be used in different functions. Local variables are created when a function starts, and deleted when the function is completed."
   ]
  },
  {
   "cell_type": "markdown",
   "id": "f5671774-0d4d-4287-b37d-e6943050eefc",
   "metadata": {},
   "source": [
    "7. What is the concept of a return value? Is it possible to have a return value in an expression?"
   ]
  },
  {
   "cell_type": "markdown",
   "id": "a1afed6c-5a89-4067-801c-0da9f2ff7a8e",
   "metadata": {},
   "source": [
    "A return is a value that a function returns to the calling script or function when it completes its task. A return value can be any one of the four variable types: handle, integer, object, or string. The type of value your function returns depends largely on the task it performs\n",
    "\n",
    "Yes it is possible to have return value as an expression"
   ]
  },
  {
   "cell_type": "markdown",
   "id": "7b3ff5d6-31d5-478b-9488-e82ff9afe5fb",
   "metadata": {},
   "source": [
    "8. If a function does not have a return statement, what is the return value of a call to that function?"
   ]
  },
  {
   "cell_type": "markdown",
   "id": "92cbbe97-f175-4941-b3e3-3a3ad2cd2a54",
   "metadata": {},
   "source": [
    "If no return statement appears in a function definition, control automatically returns to the calling function after the last statement of the called function is executed. In this case, the return value of the called function is undefined"
   ]
  },
  {
   "cell_type": "markdown",
   "id": "14c1bcdc-cdfb-46d5-b7e8-85c1ce9c16d2",
   "metadata": {},
   "source": [
    "9. How do you make a function variable refer to the global variable?"
   ]
  },
  {
   "cell_type": "markdown",
   "id": "ccc26a4c-3622-4969-9e7c-53d3c056ac2f",
   "metadata": {},
   "source": [
    "Normally, when you create a variable inside a function, that variable is local, and can only be used inside that function.\n",
    "\n",
    "To create a global variable inside a function, you can use the global keyword."
   ]
  },
  {
   "cell_type": "markdown",
   "id": "a8da46d9-8f49-47af-8019-c0280246b018",
   "metadata": {},
   "source": [
    "10. What is the data type of None?"
   ]
  },
  {
   "cell_type": "markdown",
   "id": "f37af6c7-844c-4663-baea-e54aedcc6e60",
   "metadata": {},
   "source": [
    "The None keyword is used to define a null value, or no value at all. None is not the same as 0, False, or an empty string. None is a data type of its own (NoneType) and only None can be None."
   ]
  },
  {
   "cell_type": "markdown",
   "id": "87149bad-df18-4aed-be97-f7a68f22014a",
   "metadata": {},
   "source": [
    "11. What does the sentence import areallyourpetsnamederic do?"
   ]
  },
  {
   "cell_type": "markdown",
   "id": "a4780f53-1ae2-4cf8-ac85-4684c59c30cc",
   "metadata": {},
   "source": [
    "It imports the module named \"areallyourpetsnamederic\""
   ]
  },
  {
   "cell_type": "markdown",
   "id": "fd85cda2-38ec-4624-9efa-3e297b2772e1",
   "metadata": {},
   "source": [
    "12. If you had a bacon() feature in a spam module, what would you call it after importing spam?"
   ]
  },
  {
   "cell_type": "markdown",
   "id": "8c81fb87-c755-41d0-8200-53b02ac8dea0",
   "metadata": {},
   "source": [
    "spam.becon()"
   ]
  },
  {
   "cell_type": "markdown",
   "id": "9b1d2d30-1d10-44db-bd2f-4141eab81488",
   "metadata": {},
   "source": [
    "13. What can you do to save a programme from crashing if it encounters an error?"
   ]
  },
  {
   "cell_type": "markdown",
   "id": "289a72fd-45a2-40a2-9d21-a0b410464e10",
   "metadata": {},
   "source": [
    "You need to modify your python application to catch the exception and print it without exiting the interpreter. One way to do that is to print \"press ENTER to exit\" and then read some input from the console window, effectively waiting for the user to press Enter."
   ]
  },
  {
   "cell_type": "markdown",
   "id": "fd58ea24-c826-4fd5-a4f3-8b21f62d1835",
   "metadata": {},
   "source": [
    "14. What is the purpose of the try clause? What is the purpose of the except clause?"
   ]
  },
  {
   "cell_type": "markdown",
   "id": "d1cc8e00-87f0-40dd-8a7e-9b68f2b7edbf",
   "metadata": {},
   "source": [
    "The try block lets you test a block of code for errors. The except block lets you handle the error. The else block lets you execute code when there is no error. The finally block lets you execute code, regardless of the result of the try- and except blocks"
   ]
  },
  {
   "cell_type": "code",
   "execution_count": null,
   "id": "fc4a4b60-dde8-4a16-8c14-15adafcc2123",
   "metadata": {},
   "outputs": [],
   "source": []
  }
 ],
 "metadata": {
  "kernelspec": {
   "display_name": "Python 3 (ipykernel)",
   "language": "python",
   "name": "python3"
  },
  "language_info": {
   "codemirror_mode": {
    "name": "ipython",
    "version": 3
   },
   "file_extension": ".py",
   "mimetype": "text/x-python",
   "name": "python",
   "nbconvert_exporter": "python",
   "pygments_lexer": "ipython3",
   "version": "3.10.6"
  }
 },
 "nbformat": 4,
 "nbformat_minor": 5
}
