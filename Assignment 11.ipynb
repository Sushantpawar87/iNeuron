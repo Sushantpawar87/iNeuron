{
 "cells": [
  {
   "cell_type": "markdown",
   "id": "099f912b",
   "metadata": {},
   "source": [
    "1. Create an assert statement that throws an AssertionError if the variable spam is a negative\n",
    "integer.\n",
    "2. Write an assert statement that triggers an AssertionError if the variables eggs and bacon contain\n",
    "strings that are the same as each other, even if their cases are different (that is, &#39;hello&#39; and &#39;hello&#39; are\n",
    "considered the same, and &#39;goodbye&#39; and &#39;GOODbye&#39; are also considered the same).\n",
    "3. Create an assert statement that throws an AssertionError every time.\n",
    "4. What are the two lines that must be present in your software in order to call logging.debug()?\n",
    "5. What are the two lines that your program must have in order to have logging.debug() send a\n",
    "logging message to a file named programLog.txt?\n",
    "6. What are the five levels of logging?\n",
    "7. What line of code would you add to your software to disable all logging messages?\n",
    "8.Why is using logging messages better than using print() to display the same message?\n",
    "9. What are the differences between the Step Over, Step In, and Step Out buttons in the debugger?\n",
    "10.After you click Continue, when will the debugger stop ?\n",
    "11. What is the concept of a breakpoint?"
   ]
  },
  {
   "cell_type": "markdown",
   "id": "e9f8bfad",
   "metadata": {},
   "source": [
    "To create an assert statement that throws an AssertionError if the variable spam is a negative integer, you can use the following code:"
   ]
  },
  {
   "cell_type": "code",
   "execution_count": 5,
   "id": "f75c0b1e",
   "metadata": {},
   "outputs": [
    {
     "name": "stdout",
     "output_type": "stream",
     "text": [
      "Enter spam value-1\n"
     ]
    },
    {
     "ename": "AssertionError",
     "evalue": "",
     "output_type": "error",
     "traceback": [
      "\u001b[1;31m---------------------------------------------------------------------------\u001b[0m",
      "\u001b[1;31mAssertionError\u001b[0m                            Traceback (most recent call last)",
      "Input \u001b[1;32mIn [5]\u001b[0m, in \u001b[0;36m<cell line: 2>\u001b[1;34m()\u001b[0m\n\u001b[0;32m      1\u001b[0m spam \u001b[38;5;241m=\u001b[39m \u001b[38;5;28mint\u001b[39m(\u001b[38;5;28minput\u001b[39m(\u001b[38;5;124m\"\u001b[39m\u001b[38;5;124mEnter spam value\u001b[39m\u001b[38;5;124m\"\u001b[39m))\n\u001b[1;32m----> 2\u001b[0m \u001b[38;5;28;01massert\u001b[39;00m spam\u001b[38;5;241m>\u001b[39m\u001b[38;5;241m=\u001b[39m\u001b[38;5;241m0\u001b[39m\n",
      "\u001b[1;31mAssertionError\u001b[0m: "
     ]
    }
   ],
   "source": [
    "spam = int(input(\"Enter spam value\"))\n",
    "assert spam>=0"
   ]
  },
  {
   "cell_type": "markdown",
   "id": "6e2c34fc",
   "metadata": {},
   "source": [
    "    To write an assert statement that triggers an AssertionError if the variables eggs and bacon contain strings that are the same as each other, regardless of case, you can use the following code:"
   ]
  },
  {
   "cell_type": "code",
   "execution_count": 7,
   "id": "56efeaa0",
   "metadata": {},
   "outputs": [
    {
     "name": "stdout",
     "output_type": "stream",
     "text": [
      "enter value of eggSUshant\n",
      "enter value of beconsushant\n"
     ]
    },
    {
     "ename": "AssertionError",
     "evalue": "",
     "output_type": "error",
     "traceback": [
      "\u001b[1;31m---------------------------------------------------------------------------\u001b[0m",
      "\u001b[1;31mAssertionError\u001b[0m                            Traceback (most recent call last)",
      "Input \u001b[1;32mIn [7]\u001b[0m, in \u001b[0;36m<cell line: 4>\u001b[1;34m()\u001b[0m\n\u001b[0;32m      1\u001b[0m egg \u001b[38;5;241m=\u001b[39m \u001b[38;5;28minput\u001b[39m(\u001b[38;5;124m\"\u001b[39m\u001b[38;5;124menter value of egg\u001b[39m\u001b[38;5;124m\"\u001b[39m)\n\u001b[0;32m      2\u001b[0m becon \u001b[38;5;241m=\u001b[39m \u001b[38;5;28minput\u001b[39m(\u001b[38;5;124m\"\u001b[39m\u001b[38;5;124menter value of becon\u001b[39m\u001b[38;5;124m\"\u001b[39m)\n\u001b[1;32m----> 4\u001b[0m \u001b[38;5;28;01massert\u001b[39;00m egg\u001b[38;5;241m.\u001b[39mlower() \u001b[38;5;241m!=\u001b[39m becon\u001b[38;5;241m.\u001b[39mlower()\n",
      "\u001b[1;31mAssertionError\u001b[0m: "
     ]
    }
   ],
   "source": [
    "egg = input(\"enter value of egg\")\n",
    "becon = input(\"enter value of becon\")\n",
    "\n",
    "assert egg.lower() != becon.lower()"
   ]
  },
  {
   "cell_type": "markdown",
   "id": "0a040b9f",
   "metadata": {},
   "source": [
    "To create an assert statement that throws an AssertionError every time, you can simply use the assert statement without a condition:"
   ]
  },
  {
   "cell_type": "code",
   "execution_count": 9,
   "id": "ee22487f",
   "metadata": {},
   "outputs": [
    {
     "ename": "AssertionError",
     "evalue": "AssertionError triggered",
     "output_type": "error",
     "traceback": [
      "\u001b[1;31m---------------------------------------------------------------------------\u001b[0m",
      "\u001b[1;31mAssertionError\u001b[0m                            Traceback (most recent call last)",
      "Input \u001b[1;32mIn [9]\u001b[0m, in \u001b[0;36m<cell line: 1>\u001b[1;34m()\u001b[0m\n\u001b[1;32m----> 1\u001b[0m \u001b[38;5;28;01massert\u001b[39;00m \u001b[38;5;28;01mFalse\u001b[39;00m, \u001b[38;5;124m\"\u001b[39m\u001b[38;5;124mAssertionError triggered\u001b[39m\u001b[38;5;124m\"\u001b[39m\n",
      "\u001b[1;31mAssertionError\u001b[0m: AssertionError triggered"
     ]
    }
   ],
   "source": [
    "assert False, \"AssertionError triggered\""
   ]
  },
  {
   "cell_type": "markdown",
   "id": "01df124c",
   "metadata": {},
   "source": [
    "To call logging.debug(), you need to include the following two lines in your software:\n",
    "\n",
    "import logging\n",
    "loggin.basicConfig(level = logging.DEBUG)"
   ]
  },
  {
   "cell_type": "markdown",
   "id": "8650d4fb",
   "metadata": {},
   "source": [
    "5.To have logging.debug() send a logging message to a file named programLog.txt, you need to include the following two lines in your program:"
   ]
  },
  {
   "cell_type": "code",
   "execution_count": 11,
   "id": "9d80ac1d",
   "metadata": {},
   "outputs": [],
   "source": [
    "import logging\n",
    "logging.basicConfig(filename='programlog.txt',level=logging.DEBUG)"
   ]
  },
  {
   "cell_type": "markdown",
   "id": "5fbf3971",
   "metadata": {},
   "source": [
    "6.The five levels of logging, in increasing order of severity, are:\n",
    "DEBUG: Detailed information, useful for debugging purposes.\n",
    "INFO: General information about the program's execution.\n",
    "WARNING: Indicates a potential issue or something that could cause problems in the future.\n",
    "ERROR: Indicates a more serious error or exception that caused the program to fail to perform a function.\n",
    "CRITICAL: Indicates a very serious error that may prevent the program from continuing to run."
   ]
  },
  {
   "cell_type": "markdown",
   "id": "6f4e1a07",
   "metadata": {},
   "source": [
    "7. To disable all logging messages, you can add the following line of code to your software:"
   ]
  },
  {
   "cell_type": "code",
   "execution_count": 12,
   "id": "b08fb9df",
   "metadata": {},
   "outputs": [],
   "source": [
    "logging.disable(logging.CRITICAL)"
   ]
  },
  {
   "cell_type": "markdown",
   "id": "7a46b994",
   "metadata": {},
   "source": [
    "8.Using logging messages is generally better than using print() to display the same message because:\n",
    "Logging provides a flexible and configurable way to control the verbosity of your program's output. You can easily enable or disable different levels of logging messages without modifying the code.\n",
    "Logging messages can be directed to different output destinations (console, file, etc.) and can be formatted in a consistent manner.\n",
    "Logging messages can include useful metadata such as timestamps, log levels, and module/function names, making it easier to track down issues.\n",
    "Logging supports different levels of severity, allowing you to distinguish between different types of messages and prioritize them accordingly."
   ]
  },
  {
   "cell_type": "markdown",
   "id": "72d0fa07",
   "metadata": {},
   "source": [
    "9.The differences between the Step Over, Step In, and Step Out buttons in the debugger are as follows:\n",
    "Step Over: This button allows you to execute the next line of code without stepping into any function calls on that line. If the next line contains a function call, it will be executed as a single step, and the debugger will move to the next line in the current function.\n",
    "Step In: This button allows you to step into the next function call encountered. If the next line contains a function call, the debugger will enter that function and start debugging from the first line of the called function.\n",
    "Step Out: This button allows you to execute the remaining lines of the current function and return to the caller. It allows you to quickly execute the current function without stepping through each line."
   ]
  },
  {
   "cell_type": "markdown",
   "id": "ff2c0456",
   "metadata": {},
   "source": [
    "10.After you click Continue, the debugger will stop when it encounters the next breakpoint or when the program execution is completed."
   ]
  },
  {
   "cell_type": "markdown",
   "id": "5af14294",
   "metadata": {},
   "source": [
    "11. A breakpoint is a designated point in the code where the debugger will pause the program's execution to allow you to inspect variables, step through the code, and analyze the program's state. By setting breakpoints, you can control the flow of execution and examine the program's behavior at specific locations."
   ]
  },
  {
   "cell_type": "code",
   "execution_count": null,
   "id": "0f54a320",
   "metadata": {},
   "outputs": [],
   "source": []
  }
 ],
 "metadata": {
  "kernelspec": {
   "display_name": "Python 3 (ipykernel)",
   "language": "python",
   "name": "python3"
  },
  "language_info": {
   "codemirror_mode": {
    "name": "ipython",
    "version": 3
   },
   "file_extension": ".py",
   "mimetype": "text/x-python",
   "name": "python",
   "nbconvert_exporter": "python",
   "pygments_lexer": "ipython3",
   "version": "3.9.12"
  }
 },
 "nbformat": 4,
 "nbformat_minor": 5
}
